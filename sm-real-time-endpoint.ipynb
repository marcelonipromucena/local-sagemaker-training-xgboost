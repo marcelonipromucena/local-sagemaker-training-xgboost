{
 "cells": [
  {
   "cell_type": "code",
   "execution_count": null,
   "id": "d2762fec",
   "metadata": {},
   "outputs": [],
   "source": [
    "# Simple code to deploy a real-time endpoint in SageMaker\n",
    "\n",
    "import sagemaker\n",
    "from sagemaker import get_execution_role\n",
    "from sagemaker.xgboost import XGBoostModel\n",
    "\n",
    "# Initialize SageMaker session and role\n",
    "sagemaker_session = sagemaker.Session()\n",
    "role = get_execution_role()\n",
    "\n",
    "# Specify model artifact and image URI\n",
    "model_artifact = 's3://markbucket02/housing-pricing-prediction/model-output/model.tar.gz'\n",
    "image_uri = sagemaker.image_uris.retrieve('xgboost', sagemaker_session.boto_region_name, version='1.5-1')\n",
    "\n",
    "# Create XGBoost model object\n",
    "model = XGBoostModel(\n",
    "    model_data=model_artifact,\n",
    "    role=role,\n",
    "    entry_point='inference.py',  # Optional: your inference script\n",
    "    image_uri=image_uri,\n",
    "    sagemaker_session=sagemaker_session\n",
    ")\n",
    "\n",
    "# Deploy the model to a real-time endpoint\n",
    "predictor = model.deploy(\n",
    "    initial_instance_count=1,\n",
    "    instance_type='ml.m5.large',\n",
    "    endpoint_name='marks-sm-xgboost-realtime-endpoint'\n",
    ")\n",
    "\n",
    "print(\"Endpoint deployed:\", predictor.endpoint_name)"
   ]
  }
 ],
 "metadata": {
  "kernelspec": {
   "display_name": "Python 3",
   "language": "python",
   "name": "python3"
  },
  "language_info": {
   "name": "python",
   "version": "3.10.12"
  }
 },
 "nbformat": 4,
 "nbformat_minor": 5
}
