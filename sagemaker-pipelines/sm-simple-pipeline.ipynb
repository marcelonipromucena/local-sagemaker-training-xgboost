{
 "cells": [
  {
   "cell_type": "markdown",
   "id": "077e0413",
   "metadata": {},
   "source": [
    "# Imports"
   ]
  },
  {
   "cell_type": "code",
   "execution_count": 51,
   "id": "fea52ed1",
   "metadata": {
    "execution": {
     "iopub.execute_input": "2025-09-07T18:10:53.507154Z",
     "iopub.status.busy": "2025-09-07T18:10:53.506772Z",
     "iopub.status.idle": "2025-09-07T18:10:53.511663Z",
     "shell.execute_reply": "2025-09-07T18:10:53.510612Z",
     "shell.execute_reply.started": "2025-09-07T18:10:53.507131Z"
    }
   },
   "outputs": [],
   "source": [
    "import os, json, zipfile, time, boto3, textwrap\n",
    "import sagemaker\n",
    "import boto3\n",
    "from sagemaker.session import Session\n",
    "from sagemaker.workflow.pipeline_context import PipelineSession\n",
    "from sagemaker.workflow.pipeline import Pipeline\n",
    "from sagemaker.workflow.parameters import ParameterString, ParameterInteger\n",
    "from sagemaker.workflow.steps import TrainingStep\n",
    "from sagemaker.inputs import TrainingInput\n",
    "from sagemaker.estimator import Estimator\n",
    "from sagemaker.workflow.step_collections import RegisterModel\n",
    "from sagemaker.model_metrics import ModelMetrics  # opcional aqui\n",
    "from sagemaker import image_uris\n",
    "\n",
    "from sagemaker.workflow.lambda_step import (\n",
    "    Lambda, LambdaStep, LambdaOutput, LambdaOutputTypeEnum\n",
    ")\n"
   ]
  },
  {
   "cell_type": "markdown",
   "id": "1114f8ad",
   "metadata": {},
   "source": [
    "# Initialize"
   ]
  },
  {
   "cell_type": "code",
   "execution_count": 52,
   "id": "b17185d2",
   "metadata": {
    "execution": {
     "iopub.execute_input": "2025-09-07T18:10:54.989918Z",
     "iopub.status.busy": "2025-09-07T18:10:54.989632Z",
     "iopub.status.idle": "2025-09-07T18:10:55.800257Z",
     "shell.execute_reply": "2025-09-07T18:10:55.799282Z",
     "shell.execute_reply.started": "2025-09-07T18:10:54.989897Z"
    }
   },
   "outputs": [
    {
     "name": "stdout",
     "output_type": "stream",
     "text": [
      "region: us-east-2\n",
      "bucket: sagemaker-us-east-2-650961196544\n",
      "role: arn:aws:iam::650961196544:role/service-role/AmazonSageMaker-ExecutionRole-20250818T220926\n"
     ]
    }
   ],
   "source": [
    "\n",
    "# Sessões\n",
    "boto_sess = boto3.Session()\n",
    "region = boto_sess.region_name or \"us-east-2\"\n",
    "sm_sess = Session(boto_session=boto_sess)\n",
    "pipe_sess = PipelineSession(boto_session=boto_sess)\n",
    "\n",
    "# Descobre / define a Role\n",
    "try:\n",
    "    role = sagemaker.get_execution_role()\n",
    "except Exception:\n",
    "    role = os.environ.get(\"SAGEMAKER_EXECUTION_ROLE\")\n",
    "    assert role, \"Defina SAGEMAKER_EXECUTION_ROLE com a role ARN do SageMaker.\"\n",
    "\n",
    "# Bucket e prefixo\n",
    "bucket = sm_sess.default_bucket()\n",
    "prefix = \"xgb-pipeline-do-mark\"\n",
    "\n",
    "print(\"region:\", region)\n",
    "print(\"bucket:\", bucket)\n",
    "print(\"role:\", role)"
   ]
  },
  {
   "cell_type": "markdown",
   "id": "a778253d",
   "metadata": {},
   "source": [
    "# Pipeline Params"
   ]
  },
  {
   "cell_type": "code",
   "execution_count": 53,
   "id": "11c7680c",
   "metadata": {
    "execution": {
     "iopub.execute_input": "2025-09-07T18:10:57.389935Z",
     "iopub.status.busy": "2025-09-07T18:10:57.389671Z",
     "iopub.status.idle": "2025-09-07T18:10:57.394216Z",
     "shell.execute_reply": "2025-09-07T18:10:57.393340Z",
     "shell.execute_reply.started": "2025-09-07T18:10:57.389916Z"
    }
   },
   "outputs": [],
   "source": [
    "param_train_s3 = ParameterString(\"TrainS3Uri\", default_value=f\"s3://{bucket}/{prefix}/train/\")        # ajuste\n",
    "param_val_s3   = ParameterString(\"ValidationS3Uri\", default_value=f\"s3://{bucket}/{prefix}/validation/\") # ajuste\n",
    "\n",
    "param_model_pkg_group = ParameterString(\"ModelPackageGroupName\", default_value=\"XGBDemoPkgGroup\")\n",
    "param_endpoint_name   = ParameterString(\"EndpointName\",           default_value=\"xgb-pipeline-endpoint\")\n",
    "param_instance_type   = ParameterString(\"InstanceType\",           default_value=\"ml.m5.large\")\n",
    "param_initial_count   = ParameterInteger(\"InitialInstanceCount\",  default_value=1)"
   ]
  },
  {
   "cell_type": "markdown",
   "id": "6312836f",
   "metadata": {},
   "source": [
    "# Training"
   ]
  },
  {
   "cell_type": "code",
   "execution_count": 54,
   "id": "2fa3c98f",
   "metadata": {
    "execution": {
     "iopub.execute_input": "2025-09-07T18:10:58.500241Z",
     "iopub.status.busy": "2025-09-07T18:10:58.499963Z",
     "iopub.status.idle": "2025-09-07T18:10:58.537614Z",
     "shell.execute_reply": "2025-09-07T18:10:58.536616Z",
     "shell.execute_reply.started": "2025-09-07T18:10:58.500223Z"
    }
   },
   "outputs": [
    {
     "name": "stderr",
     "output_type": "stream",
     "text": [
      "INFO:sagemaker.image_uris:Ignoring unnecessary instance type: None.\n"
     ]
    }
   ],
   "source": [
    "xgb_image = image_uris.retrieve(framework=\"xgboost\", region=region, version=\"1.5-1\")\n",
    "xgb = Estimator(\n",
    "    image_uri=xgb_image,\n",
    "    role=role,\n",
    "    instance_count=1,\n",
    "    instance_type=\"ml.m5.large\",\n",
    "    output_path=f\"s3://{bucket}/{prefix}/training-output\",\n",
    "    sagemaker_session=pipe_sess,\n",
    ")\n",
    "\n",
    "xgb.set_hyperparameters(\n",
    "    objective=\"binary:logistic\",\n",
    "    eval_metric=\"auc\",\n",
    "    num_round=100,\n",
    "    max_depth=5,\n",
    "    eta=0.2,\n",
    "    subsample=0.8\n",
    ")\n",
    "\n",
    "train_step = TrainingStep(\n",
    "    name=\"XGBoostTrain\",\n",
    "    estimator=xgb,\n",
    "    inputs={\n",
    "        \"train\": TrainingInput(\n",
    "            s3_data=param_train_s3,\n",
    "            content_type=\"text/csv\"\n",
    "        ),\n",
    "        \"validation\": TrainingInput(\n",
    "            s3_data=param_val_s3,\n",
    "            content_type=\"text/csv\"\n",
    "        )\n",
    "    }\n",
    ")\n"
   ]
  },
  {
   "cell_type": "markdown",
   "id": "ff4859c5",
   "metadata": {},
   "source": [
    "# Register Model"
   ]
  },
  {
   "cell_type": "code",
   "execution_count": 55,
   "id": "555f7a19",
   "metadata": {
    "execution": {
     "iopub.execute_input": "2025-09-07T18:11:02.700571Z",
     "iopub.status.busy": "2025-09-07T18:11:02.700293Z",
     "iopub.status.idle": "2025-09-07T18:11:02.705429Z",
     "shell.execute_reply": "2025-09-07T18:11:02.704364Z",
     "shell.execute_reply.started": "2025-09-07T18:11:02.700550Z"
    }
   },
   "outputs": [],
   "source": [
    "register_step = RegisterModel(\n",
    "    name=\"MarksRegisterModel\",\n",
    "    estimator=xgb,\n",
    "    model_data=train_step.properties.ModelArtifacts.S3ModelArtifacts,\n",
    "    content_types=[\"text/csv\"],\n",
    "    response_types=[\"text/csv\"],\n",
    "    inference_instances=[\"ml.t2.medium\", \"ml.m5.large\"],\n",
    "    transform_instances=[\"ml.m5.large\"],\n",
    "    model_package_group_name=param_model_pkg_group,\n",
    "    approval_status=\"Approved\"  # pode fixar se preferir; aqui deixamos padrão (PendingManualApproval)\n",
    ")"
   ]
  },
  {
   "cell_type": "markdown",
   "id": "972c7db9",
   "metadata": {},
   "source": [
    "# LambdaStep"
   ]
  },
  {
   "cell_type": "code",
   "execution_count": 56,
   "id": "46b4219e",
   "metadata": {
    "execution": {
     "iopub.execute_input": "2025-09-07T18:11:05.822135Z",
     "iopub.status.busy": "2025-09-07T18:11:05.821855Z",
     "iopub.status.idle": "2025-09-07T18:11:06.279923Z",
     "shell.execute_reply": "2025-09-07T18:11:06.279116Z",
     "shell.execute_reply.started": "2025-09-07T18:11:05.822114Z"
    }
   },
   "outputs": [
    {
     "name": "stdout",
     "output_type": "stream",
     "text": [
      "Lambda ARN: arn:aws:lambda:us-east-2:650961196544:function:mark-xgboost-pipeline-demo-deploy-fn\n"
     ]
    }
   ],
   "source": [
    "lambda_client = boto3.client(\"lambda\", region_name=region)\n",
    "lambda_role_arn = \"arn:aws:iam::650961196544:role/role-do-mark-lambdastep-sagemaker\"\n",
    "assert lambda_role_arn, \"Defina LAMBDA_ROLE_ARN com a role ARN do Lambda (com permissões de SageMaker).\"\n",
    "\n",
    "pipeline_name = \"mark-xgboost-pipeline-demo\"\n",
    "lambda_fn_name = f\"{pipeline_name}-deploy-fn\"\n",
    "\n",
    "lambda_code = textwrap.dedent(f\"\"\"\n",
    "import boto3, os, time, json, botocore\n",
    "sm = boto3.client(\"sagemaker\")\n",
    "\n",
    "def handler(event, context):\n",
    "    endpoint_name = event[\"EndpointName\"]\n",
    "    model_package_arn = event[\"ModelPackageArn\"]\n",
    "    instance_type = event.get(\"InstanceType\", \"ml.m5.large\")\n",
    "    initial_instance_count = int(event.get(\"InitialInstanceCount\", 1))\n",
    "    role_arn = os.environ[\"SAGEMAKER_ROLE\"]\n",
    "\n",
    "    model_name = f\"{{endpoint_name}}-model-{{int(time.time())}}\"\n",
    "    sm.create_model(\n",
    "        ModelName=model_name,\n",
    "        PrimaryContainer={{\"ModelPackageName\": model_package_arn}},\n",
    "        ExecutionRoleArn=role_arn\n",
    "    )\n",
    "\n",
    "    endpoint_config_name = f\"{{endpoint_name}}-cfg-{{int(time.time())}}\"\n",
    "    sm.create_endpoint_config(\n",
    "        EndpointConfigName=endpoint_config_name,\n",
    "        ProductionVariants=[{{\n",
    "            \"ModelName\": model_name,\n",
    "            \"InstanceType\": instance_type,\n",
    "            \"InitialInstanceCount\": initial_instance_count,\n",
    "            \"VariantName\": \"AllTraffic\"\n",
    "        }}]\n",
    "    )\n",
    "\n",
    "    try:\n",
    "        sm.describe_endpoint(EndpointName=endpoint_name)\n",
    "        sm.update_endpoint(EndpointName=endpoint_name, EndpointConfigName=endpoint_config_name)\n",
    "        action = \"UPDATED\"\n",
    "    except botocore.exceptions.ClientError as e:\n",
    "        if e.response.get(\"Error\", {{}}).get(\"Code\") in [\"ValidationException\", \"ResourceNotFound\"]:\n",
    "            sm.create_endpoint(EndpointName=endpoint_name, EndpointConfigName=endpoint_config_name)\n",
    "            action = \"CREATED\"\n",
    "        else:\n",
    "            raise\n",
    "\n",
    "    return {{\"EndpointName\": endpoint_name, \"Action\": action, \"EndpointConfigName\": endpoint_config_name}}\n",
    "\"\"\")\n",
    "\n",
    "# empacota\n",
    "zip_path = \"lambda_deploy.zip\"\n",
    "with open(\"lambda_function.py\", \"w\") as f:\n",
    "    f.write(lambda_code)\n",
    "with zipfile.ZipFile(zip_path, \"w\", zipfile.ZIP_DEFLATED) as zf:\n",
    "    zf.write(\"lambda_function.py\", arcname=\"lambda_function.py\")\n",
    "\n",
    "# cria ou atualiza\n",
    "fn_arn = None\n",
    "try:\n",
    "    resp = lambda_client.create_function(\n",
    "        FunctionName=lambda_fn_name,\n",
    "        Runtime=\"python3.11\",\n",
    "        Role=lambda_role_arn,\n",
    "        Handler=\"lambda_function.handler\",\n",
    "        Code={\"ZipFile\": open(zip_path, \"rb\").read()},\n",
    "        Timeout=900,\n",
    "        MemorySize=512,\n",
    "        Environment={\"Variables\": {\"SAGEMAKER_ROLE\": role}},\n",
    "        Publish=True,\n",
    "    )\n",
    "    fn_arn = resp[\"FunctionArn\"]\n",
    "except lambda_client.exceptions.ResourceConflictException:\n",
    "    lambda_client.update_function_code(\n",
    "        FunctionName=lambda_fn_name,\n",
    "        ZipFile=open(zip_path, \"rb\").read(),\n",
    "        Publish=True,\n",
    "    )\n",
    "    # garante/atualiza env\n",
    "    lambda_client.update_function_configuration(\n",
    "        FunctionName=lambda_fn_name,\n",
    "        Environment={\"Variables\": {\"SAGEMAKER_ROLE\": role}},\n",
    "        Timeout=900,\n",
    "        MemorySize=512,\n",
    "        Role=lambda_role_arn,\n",
    "        Runtime=\"python3.11\",\n",
    "        Handler=\"lambda_function.handler\",\n",
    "    )\n",
    "    fn_arn = lambda_client.get_function(FunctionName=lambda_fn_name)[\"Configuration\"][\"FunctionArn\"]\n",
    "\n",
    "print(\"Lambda ARN:\", fn_arn)\n"
   ]
  },
  {
   "cell_type": "markdown",
   "id": "5d560c29",
   "metadata": {},
   "source": [
    "# Connect Lambda function to LambdaStep"
   ]
  },
  {
   "cell_type": "code",
   "execution_count": 57,
   "id": "bca610cd",
   "metadata": {
    "execution": {
     "iopub.execute_input": "2025-09-07T18:11:17.740655Z",
     "iopub.status.busy": "2025-09-07T18:11:17.740384Z",
     "iopub.status.idle": "2025-09-07T18:11:17.744679Z",
     "shell.execute_reply": "2025-09-07T18:11:17.743822Z",
     "shell.execute_reply.started": "2025-09-07T18:11:17.740634Z"
    }
   },
   "outputs": [],
   "source": [
    "# %% \n",
    "deploy_lambda = Lambda(function_arn=fn_arn, session=pipe_sess)\n",
    "\n",
    "deploy_step = LambdaStep(\n",
    "    name=\"DeployToEndpoint\",\n",
    "    lambda_func=deploy_lambda,\n",
    "    inputs={\n",
    "        \"ModelPackageArn\": register_step.properties.ModelPackageArn,\n",
    "        \"EndpointName\": param_endpoint_name,\n",
    "        \"InstanceType\": param_instance_type,\n",
    "        \"InitialInstanceCount\": param_initial_count,\n",
    "    },\n",
    "    outputs=[\n",
    "        LambdaOutput(output_name=\"EndpointName\", output_type=LambdaOutputTypeEnum.String),\n",
    "        LambdaOutput(output_name=\"Action\",       output_type=LambdaOutputTypeEnum.String),\n",
    "    ],\n",
    ")\n"
   ]
  },
  {
   "cell_type": "markdown",
   "id": "a6ff7df2",
   "metadata": {},
   "source": [
    "# Upsert Pipeline"
   ]
  },
  {
   "cell_type": "code",
   "execution_count": 58,
   "id": "bcbd308e",
   "metadata": {
    "execution": {
     "iopub.execute_input": "2025-09-07T18:11:25.008033Z",
     "iopub.status.busy": "2025-09-07T18:11:25.007712Z",
     "iopub.status.idle": "2025-09-07T18:11:25.306118Z",
     "shell.execute_reply": "2025-09-07T18:11:25.305384Z",
     "shell.execute_reply.started": "2025-09-07T18:11:25.008010Z"
    }
   },
   "outputs": [
    {
     "name": "stderr",
     "output_type": "stream",
     "text": [
      "WARNING:sagemaker.workflow.utilities:Popping out 'TrainingJobName' from the pipeline definition by default since it will be overridden at pipeline execution time. Please utilize the PipelineDefinitionConfig to persist this field in the pipeline definition if desired.\n",
      "WARNING:sagemaker.estimator:No finished training job found associated with this estimator. Please make sure this estimator is only used for building workflow config\n",
      "WARNING:sagemaker.workflow._utils:Popping out 'CertifyForMarketplace' from the pipeline definition since it will be overridden in pipeline execution time.\n",
      "WARNING:sagemaker.workflow.utilities:Popping out 'ModelPackageName' from the pipeline definition by default since it will be overridden at pipeline execution time. Please utilize the PipelineDefinitionConfig to persist this field in the pipeline definition if desired.\n"
     ]
    },
    {
     "data": {
      "text/plain": [
       "{'PipelineArn': 'arn:aws:sagemaker:us-east-2:650961196544:pipeline/mark-xgboost-pipeline-demo',\n",
       " 'ResponseMetadata': {'RequestId': '3e44a7e5-03c8-441d-9dab-1a53563b9c5b',\n",
       "  'HTTPStatusCode': 200,\n",
       "  'HTTPHeaders': {'x-amzn-requestid': '3e44a7e5-03c8-441d-9dab-1a53563b9c5b',\n",
       "   'content-type': 'application/x-amz-json-1.1',\n",
       "   'content-length': '94',\n",
       "   'date': 'Sun, 07 Sep 2025 18:11:25 GMT'},\n",
       "  'RetryAttempts': 0}}"
      ]
     },
     "execution_count": 58,
     "metadata": {},
     "output_type": "execute_result"
    }
   ],
   "source": [
    "# %% \n",
    "pipeline = Pipeline(\n",
    "    name=pipeline_name,\n",
    "    parameters=[\n",
    "        param_train_s3, param_val_s3,\n",
    "        param_model_pkg_group,\n",
    "        param_endpoint_name, param_instance_type, param_initial_count\n",
    "    ],\n",
    "    steps=[train_step, register_step, deploy_step],\n",
    "    sagemaker_session=pipe_sess,\n",
    ")\n",
    "\n",
    "# cria/atualiza a definição no SageMaker\n",
    "pipeline.upsert(role_arn=role)\n"
   ]
  },
  {
   "cell_type": "markdown",
   "id": "c478bbd0",
   "metadata": {},
   "source": [
    "# Start Pipeline"
   ]
  },
  {
   "cell_type": "code",
   "execution_count": 59,
   "id": "4b6981f4",
   "metadata": {
    "execution": {
     "iopub.execute_input": "2025-09-07T18:11:31.244314Z",
     "iopub.status.busy": "2025-09-07T18:11:31.244016Z",
     "iopub.status.idle": "2025-09-07T18:11:31.459755Z",
     "shell.execute_reply": "2025-09-07T18:11:31.459189Z",
     "shell.execute_reply.started": "2025-09-07T18:11:31.244292Z"
    }
   },
   "outputs": [
    {
     "name": "stdout",
     "output_type": "stream",
     "text": [
      "Execution ARN: arn:aws:sagemaker:us-east-2:650961196544:pipeline/mark-xgboost-pipeline-demo/execution/9mkozc4zv1b1\n"
     ]
    }
   ],
   "source": [
    "# %% \n",
    "execution = pipeline.start(\n",
    "    parameters={\n",
    "        \"TrainS3Uri\": param_train_s3.default_value,          # ajuste se quiser\n",
    "        \"ValidationS3Uri\": param_val_s3.default_value,        # ajuste se quiser\n",
    "        \"ModelPackageGroupName\": \"XGBDemoPkgGroup\",\n",
    "        \"EndpointName\": \"xgb-pipeline-endpoint\",\n",
    "        \"InstanceType\": \"ml.m5.large\",\n",
    "        \"InitialInstanceCount\": 1,\n",
    "    }\n",
    ")\n",
    "\n",
    "print(\"Execution ARN:\", execution.arn)\n",
    "# Opcional: bloquear o notebook até terminar\n",
    "# execution.wait()\n"
   ]
  },
  {
   "cell_type": "markdown",
   "id": "d5c1974b",
   "metadata": {},
   "source": [
    "# Check Endpoint Status"
   ]
  },
  {
   "cell_type": "code",
   "execution_count": null,
   "id": "f7bfb985",
   "metadata": {},
   "outputs": [],
   "source": [
    "# %% \n",
    "sm = boto3.client(\"sagemaker\", region_name=region)\n",
    "desc = sm.describe_endpoint(EndpointName=\"xgb-pipeline-endpoint\")\n",
    "print(desc[\"EndpointStatus\"])\n"
   ]
  }
 ],
 "metadata": {
  "kernelspec": {
   "display_name": "Python 3 (ipykernel)",
   "language": "python",
   "name": "python3"
  },
  "language_info": {
   "codemirror_mode": {
    "name": "ipython",
    "version": 3
   },
   "file_extension": ".py",
   "mimetype": "text/x-python",
   "name": "python",
   "nbconvert_exporter": "python",
   "pygments_lexer": "ipython3",
   "version": "3.12.9"
  }
 },
 "nbformat": 4,
 "nbformat_minor": 5
}
